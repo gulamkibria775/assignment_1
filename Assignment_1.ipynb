{
 "cells": [
  {
   "cell_type": "markdown",
   "metadata": {},
   "source": [
    "# Ans to the Q no-1\n",
    "\n",
    "\n",
    "* == expression.\n",
    "'hello' == value\n",
    "-87.8 == value\n",
    "- == expression\n",
    "/ == expression\n",
    "+ == expression\n",
    "6 == value"
   ]
  },
  {
   "cell_type": "markdown",
   "metadata": {},
   "source": [
    "#  Ans to the Q no-2\n",
    "\n",
    "A variable is a store of information on the otherhand String is a type of information.\n",
    "example:\n",
    "        x='kibria'\n",
    "        here x is a variable and we declared it as string."
   ]
  },
  {
   "cell_type": "markdown",
   "metadata": {},
   "source": [
    "# Ans to the Q no-3\n",
    "\n",
    "there are three data type:\n",
    "\n",
    "1.INTEGER (it is the most common numerical data type use to store numbers without a fractional component.example:33,4,5)\n",
    "\n",
    "2.FLOATING (it is also a numeric data type used to  store numbers that may have a fractional component like monetary value. example: 7.2 ,33.6)\n",
    "\n",
    "3.STRING ( it is a sequence of characters and used data type to store text.example:'my name is kibria')\n"
   ]
  },
  {
   "cell_type": "markdown",
   "metadata": {},
   "source": [
    "# Ans to the Q no-4\n",
    "\n",
    "An expression is a construct made up of variables, operators,operand and method invocations.Expressions are representations of value. \n",
    "  \n",
    "  x=3+6\n",
    "  x='kibria'\n",
    "\n"
   ]
  },
  {
   "cell_type": "markdown",
   "metadata": {},
   "source": [
    "#  Ans to the Q no-5\n",
    "\n",
    "\n",
    "Statements represent an action or command like print statements, assignment statements on the otherhand Expression is a combination of variables, operations and values that yields a result value.\n",
    "\n",
    "\n"
   ]
  },
  {
   "cell_type": "code",
   "execution_count": 5,
   "metadata": {},
   "outputs": [
    {
     "data": {
      "text/plain": [
       "22"
      ]
     },
     "execution_count": 5,
     "metadata": {},
     "output_type": "execute_result"
    }
   ],
   "source": [
    "#   Ans to the Q no-6\n",
    "\n",
    "bacon=22\n",
    "bacon+1\n",
    "bacon\n",
    "\n",
    "here bacon is 22"
   ]
  },
  {
   "cell_type": "code",
   "execution_count": 7,
   "metadata": {},
   "outputs": [
    {
     "data": {
      "text/plain": [
       "'spamspamspam'"
      ]
     },
     "execution_count": 7,
     "metadata": {},
     "output_type": "execute_result"
    }
   ],
   "source": [
    "#  Ans to the Q no-7\n",
    "\n",
    "'spam'+'spamspam'\n",
    "\n",
    "\n"
   ]
  },
  {
   "cell_type": "code",
   "execution_count": 8,
   "metadata": {},
   "outputs": [
    {
     "data": {
      "text/plain": [
       "'spamspamspam'"
      ]
     },
     "execution_count": 8,
     "metadata": {},
     "output_type": "execute_result"
    }
   ],
   "source": [
    "# #  Ans to the Q no-7\n",
    "\n",
    "'spam'*3\n"
   ]
  },
  {
   "cell_type": "markdown",
   "metadata": {},
   "source": [
    "## Ans to the Q no-8\n",
    "\n",
    "\n",
    "A variable name may consists of letters, digits and the underscore ( _ ) characters. A variable name must begin with a letter. \n",
    "here egg is valid variable name because it start letter there is no space but 100 is not valid variable because it start digit .."
   ]
  },
  {
   "cell_type": "markdown",
   "metadata": {},
   "source": [
    "# Ans to the Q no-9\n",
    "\n",
    "there are there function :\n",
    "1.int()\n",
    "2.float()\n",
    "3.str()"
   ]
  },
  {
   "cell_type": "code",
   "execution_count": 9,
   "metadata": {},
   "outputs": [
    {
     "ename": "TypeError",
     "evalue": "can only concatenate str (not \"int\") to str",
     "output_type": "error",
     "traceback": [
      "\u001b[0;31m---------------------------------------------------------------------------\u001b[0m",
      "\u001b[0;31mTypeError\u001b[0m                                 Traceback (most recent call last)",
      "\u001b[0;32m<ipython-input-9-9ca2f6e48cad>\u001b[0m in \u001b[0;36m<module>\u001b[0;34m\u001b[0m\n\u001b[1;32m      1\u001b[0m \u001b[0;31m# Ans to the Q no-10\u001b[0m\u001b[0;34m\u001b[0m\u001b[0;34m\u001b[0m\u001b[0;34m\u001b[0m\u001b[0m\n\u001b[1;32m      2\u001b[0m \u001b[0;34m\u001b[0m\u001b[0m\n\u001b[0;32m----> 3\u001b[0;31m \u001b[0;34m'I have eaten'\u001b[0m \u001b[0;34m+\u001b[0m \u001b[0;36m99\u001b[0m \u001b[0;34m+\u001b[0m \u001b[0;34m'burritos'\u001b[0m\u001b[0;34m\u001b[0m\u001b[0;34m\u001b[0m\u001b[0m\n\u001b[0m",
      "\u001b[0;31mTypeError\u001b[0m: can only concatenate str (not \"int\") to str"
     ]
    }
   ],
   "source": [
    "# Ans to the Q no-10\n",
    "\n",
    "'I have eaten' + 99 + 'burritos'  #this expression cause an error because can only concatenate str (not \"int\") to str\n",
    "##below right expression\n",
    "\n",
    "'I have eaten'+'99'+'burritos' \n",
    "#or\n",
    "'I have eaten'+ str(99) +'burritos'"
   ]
  },
  {
   "cell_type": "code",
   "execution_count": null,
   "metadata": {},
   "outputs": [],
   "source": []
  }
 ],
 "metadata": {
  "kernelspec": {
   "display_name": "Python 3",
   "language": "python",
   "name": "python3"
  },
  "language_info": {
   "codemirror_mode": {
    "name": "ipython",
    "version": 3
   },
   "file_extension": ".py",
   "mimetype": "text/x-python",
   "name": "python",
   "nbconvert_exporter": "python",
   "pygments_lexer": "ipython3",
   "version": "3.8.5"
  }
 },
 "nbformat": 4,
 "nbformat_minor": 4
}
